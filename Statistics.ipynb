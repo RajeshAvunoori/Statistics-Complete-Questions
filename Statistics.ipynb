{
  "nbformat": 4,
  "nbformat_minor": 0,
  "metadata": {
    "colab": {
      "provenance": []
    },
    "kernelspec": {
      "name": "python3",
      "display_name": "Python 3"
    },
    "language_info": {
      "name": "python"
    }
  },
  "cells": [
    {
      "cell_type": "markdown",
      "source": [
        "1. Scenario: A company wants to analyze the sales performance of its products in different regions. They have collected the following data:\n",
        "   Region A: [10, 15, 12, 8, 14]\n",
        "   Region B: [18, 20, 16, 22, 25]\n",
        "   Calculate the mean sales for each region\n"
      ],
      "metadata": {
        "id": "n5_94iPwBIkH"
      }
    },
    {
      "cell_type": "code",
      "execution_count": 4,
      "metadata": {
        "colab": {
          "base_uri": "https://localhost:8080/"
        },
        "id": "Qex-ZNsQA-q-",
        "outputId": "b0641a3b-46b0-49e9-a2e6-df0019db07ad"
      },
      "outputs": [
        {
          "output_type": "stream",
          "name": "stdout",
          "text": [
            " A mean = 11.8\n",
            " B mean = 20.2\n"
          ]
        }
      ],
      "source": [
        "import numpy as np\n",
        "\n",
        "Region_A_mean = np.mean([10, 15, 12, 8, 14])\n",
        "Region_B_mean = np.mean([18, 20, 16, 22, 25])\n",
        "print(f' A mean = {Region_A_mean}')\n",
        "print(f' B mean = {Region_B_mean}')\n"
      ]
    },
    {
      "cell_type": "markdown",
      "source": [
        "2. Scenario: A survey is conducted to measure customer satisfaction on a scale of 1 to 5. The data collected is as follows:\n",
        "   [4, 5, 2, 3, 5, 4, 3, 2, 4, 5]\n",
        "   Calculate the mode of the survey responses.\n"
      ],
      "metadata": {
        "id": "9_JJBVBuB9qB"
      }
    },
    {
      "cell_type": "code",
      "source": [
        "import statistics\n",
        "\n",
        "review_mode = statistics.mode([4, 5, 2, 3, 5, 4, 3, 2, 4, 5])\n",
        "print(review_mode)\n"
      ],
      "metadata": {
        "colab": {
          "base_uri": "https://localhost:8080/"
        },
        "id": "SPXtTrnjBXlA",
        "outputId": "51771e81-e7a6-4267-b030-434d6266833f"
      },
      "execution_count": 6,
      "outputs": [
        {
          "output_type": "stream",
          "name": "stdout",
          "text": [
            "4\n"
          ]
        }
      ]
    },
    {
      "cell_type": "markdown",
      "source": [
        "\n",
        "3. Scenario: A company wants to compare the salaries of two departments. The salary data for Department A and Department B are as follows:\n",
        "   Department A: [5000, 6000, 5500, 7000]\n",
        "   Department B: [4500, 5500, 5800, 6000, 5200]\n",
        "   Calculate the median salary for each department.\n"
      ],
      "metadata": {
        "id": "nAirA83FCppK"
      }
    },
    {
      "cell_type": "code",
      "source": [
        "import numpy as np\n",
        "\n",
        "Department_A_median = np.median([5000, 6000, 5500, 7000])\n",
        "Department_B_median = np.median([4500, 5500, 5800, 6000, 5200])\n",
        "print(f'A median : {Department_A_median}')\n",
        "print(f'B median : {Department_B_median}')"
      ],
      "metadata": {
        "colab": {
          "base_uri": "https://localhost:8080/"
        },
        "id": "1THCNt3XCQDx",
        "outputId": "d94959f2-83a2-4442-83d6-52fbc1098fb5"
      },
      "execution_count": 8,
      "outputs": [
        {
          "output_type": "stream",
          "name": "stdout",
          "text": [
            "A median : 5750.0\n",
            "B median : 5500.0\n"
          ]
        }
      ]
    },
    {
      "cell_type": "markdown",
      "source": [
        "4. Scenario: A data analyst wants to determine the variability in the daily stock prices of a company. The data collected is as follows:\n",
        "   [25.5, 24.8, 26.1, 25.3, 24.9]\n",
        "   Calculate the range of the stock prices.\n"
      ],
      "metadata": {
        "id": "jusSEDUkD49l"
      }
    },
    {
      "cell_type": "code",
      "source": [
        "import numpy as np\n",
        "\n",
        "maximum = max([25.5, 24.8, 26.1, 25.3, 24.9])\n",
        "minimum = min([25.5, 24.8, 26.1, 25.3, 24.9])\n",
        "range = maximum - minimum\n",
        "print(range)\n",
        "\n"
      ],
      "metadata": {
        "colab": {
          "base_uri": "https://localhost:8080/"
        },
        "id": "2PNa0JjmC1Ob",
        "outputId": "a6d090e9-6e11-4903-8815-a2d9f276353e"
      },
      "execution_count": 10,
      "outputs": [
        {
          "output_type": "stream",
          "name": "stdout",
          "text": [
            "1.3000000000000007\n"
          ]
        }
      ]
    },
    {
      "cell_type": "markdown",
      "source": [
        "5. Scenario: A study is conducted to compare the performance of two different teaching methods. The test scores of the students in each group are as follows:\n",
        "   Group A: [85, 90, 92, 88, 91]\n",
        "   Group B: [82, 88, 90, 86, 87]\n",
        "   Perform a t-test to determine if there is a significant difference in the mean scores between the two groups.\n"
      ],
      "metadata": {
        "id": "JrD4IZxkFQ2z"
      }
    },
    {
      "cell_type": "code",
      "source": [
        "import scipy.stats as stats\n",
        "\n",
        "Group_A = [85, 90, 92, 88, 91]\n",
        "Group_B =  [82, 88, 90, 86, 87]\n",
        "\n",
        "t_value,p_value = stats.ttest_ind(Group_A,Group_B)\n",
        "\n",
        "if p_value<0.05:\n",
        "  print('reject null hypothesis')\n",
        "else:\n",
        "  print('accept the null hypothesis')\n",
        "\n",
        "print(t_value,p_value)"
      ],
      "metadata": {
        "colab": {
          "base_uri": "https://localhost:8080/"
        },
        "id": "olcUZ1-fEwFI",
        "outputId": "d5fd8437-17ff-45b6-b57e-d92e8369cc91"
      },
      "execution_count": 3,
      "outputs": [
        {
          "output_type": "stream",
          "name": "stdout",
          "text": [
            "accept the null hypothesis\n",
            "1.4312528946642733 0.19023970239078333\n"
          ]
        }
      ]
    },
    {
      "cell_type": "markdown",
      "source": [
        "6. Scenario: A company wants to analyze the relationship between advertising expenditure and sales. The data collected is as follows:\n",
        "   Advertising Expenditure (in thousands): [10, 15, 12, 8, 14]\n",
        "   Sales (in thousands): [25, 30, 28, 20, 26]\n",
        "   Calculate the correlation coefficient between advertising expenditure and sales.\n"
      ],
      "metadata": {
        "id": "cGpX5BK2sq_u"
      }
    },
    {
      "cell_type": "code",
      "source": [
        "import numpy as np\n",
        "Advertising = [10, 15, 12, 8, 14]\n",
        "Sales = [25, 30, 28, 20, 26]\n",
        "correlation_coefficient = np.corrcoef(Advertising,Sales)[0,1]\n",
        "print(correlation_coefficient)"
      ],
      "metadata": {
        "colab": {
          "base_uri": "https://localhost:8080/"
        },
        "id": "5Q0wvbhmsaPf",
        "outputId": "a99b9d87-714c-4779-9e72-18e9b324cd92"
      },
      "execution_count": 6,
      "outputs": [
        {
          "output_type": "stream",
          "name": "stdout",
          "text": [
            "0.8757511375750132\n"
          ]
        }
      ]
    },
    {
      "cell_type": "markdown",
      "source": [
        "7. Scenario: A survey is conducted to measure the heights of a group of people. The data collected is as follows:\n",
        "   [160, 170, 165, 155, 175, 180, 170]\n",
        "   Calculate the standard deviation of the heights.\n"
      ],
      "metadata": {
        "id": "-JZNS6Hit9ad"
      }
    },
    {
      "cell_type": "code",
      "source": [
        "import statistics\n",
        "\n",
        "heights = [160, 170, 165, 155, 175, 180, 170]\n",
        "standarddeviation = statistics.stdev(heights)\n",
        "print(standarddeviation)"
      ],
      "metadata": {
        "colab": {
          "base_uri": "https://localhost:8080/"
        },
        "id": "RUmQNN6MtmOy",
        "outputId": "0ca28600-95b8-4a54-9cae-71477ec57b07"
      },
      "execution_count": 8,
      "outputs": [
        {
          "output_type": "stream",
          "name": "stdout",
          "text": [
            "8.591246929842246\n"
          ]
        }
      ]
    },
    {
      "cell_type": "markdown",
      "source": [
        "8. Scenario: A company wants to analyze the relationship between employee tenure and job satisfaction. The data collected is as follows:\n",
        "   Employee Tenure (in years): [2, 3, 5, 4, 6, 2, 4]\n",
        "   Job Satisfaction (on a scale of 1 to 10): [7, 8, 6, 9, 5, 7, 6]\n",
        "   Perform a linear regression analysis to predict job satisfaction based on employee tenure\n"
      ],
      "metadata": {
        "id": "Ywsq4j25ulJc"
      }
    },
    {
      "cell_type": "code",
      "source": [
        "from sklearn.linear_model import LinearRegression\n",
        "import numpy as np\n",
        "X_train = np.array([2, 3, 5, 4, 6, 2, 4]).reshape(-1,1)\n",
        "y_train = np.array([7, 8, 6, 9, 5, 7, 6])\n",
        "lm = LinearRegression()\n",
        "lm.fit(X_train,y_train)\n",
        "\n",
        "X_test = np.array([2.5]).reshape(-1,1)\n",
        "print(lm.predict(X_test))\n"
      ],
      "metadata": {
        "colab": {
          "base_uri": "https://localhost:8080/"
        },
        "id": "wYXilDYjuLBO",
        "outputId": "961984b6-5923-4ea2-8e6d-3843720f7020"
      },
      "execution_count": 24,
      "outputs": [
        {
          "output_type": "stream",
          "name": "stdout",
          "text": [
            "[7.42553191]\n"
          ]
        }
      ]
    },
    {
      "cell_type": "markdown",
      "source": [
        "9. Scenario: A study is conducted to compare the effectiveness of two different medications. The recovery times of the patients in each group are as follows:\n",
        "   Medication A: [10, 12, 14, 11, 13]\n",
        "   Medication B: [15, 17, 16, 14, 18]\n",
        "   Perform an analysis of variance (ANOVA) to determine if there is a significant difference in the mean recovery times between the two medications.\n"
      ],
      "metadata": {
        "id": "1VGVnRiM1Bmv"
      }
    },
    {
      "cell_type": "code",
      "source": [
        "from scipy.stats import stats\n",
        "Medication_A = [10, 12, 14, 11, 13]\n",
        "Medication_B = [15, 17, 16, 14, 18]\n",
        "f_value, p_value = stats.f_oneway(Medication_A,Medication_B)\n",
        "if p_value < 0.05:\n",
        "  print('There is significant difference reject null hypothesis')\n",
        "else:\n",
        "  print('There is no difference accept null hypothesis')\n",
        "\n",
        "print(f_value, p_value)"
      ],
      "metadata": {
        "colab": {
          "base_uri": "https://localhost:8080/"
        },
        "id": "b2tOVQOtvIZE",
        "outputId": "1bfc24b5-1f83-49ea-86d8-986906cf68d6"
      },
      "execution_count": 30,
      "outputs": [
        {
          "output_type": "stream",
          "name": "stdout",
          "text": [
            "There is significant difference reject null hypothesis\n",
            "16.0 0.003949772803445326\n"
          ]
        },
        {
          "output_type": "stream",
          "name": "stderr",
          "text": [
            "<ipython-input-30-ae98356b547c>:4: DeprecationWarning: Please use `f_oneway` from the `scipy.stats` namespace, the `scipy.stats.stats` namespace is deprecated.\n",
            "  f_value, p_value = stats.f_oneway(Medication_A,Medication_B)\n"
          ]
        }
      ]
    },
    {
      "cell_type": "markdown",
      "source": [
        "10. Scenario: A company wants to analyze customer feedback ratings on a scale of 1 to 10. The data collected is\n",
        "\n",
        " as follows:\n",
        "    [8, 9, 7, 6, 8, 10, 9, 8, 7, 8]\n",
        "    Calculate the 75th percentile of the feedback ratings.\n"
      ],
      "metadata": {
        "id": "zmLo2EHj6Awe"
      }
    },
    {
      "cell_type": "code",
      "source": [
        "import numpy as np\n",
        "data = [8, 9, 7, 6, 8, 10, 9, 8, 7, 8]\n",
        "percentile = np.percentile(data,75)\n",
        "print(f' the 75Th percentile : {percentile}')"
      ],
      "metadata": {
        "colab": {
          "base_uri": "https://localhost:8080/"
        },
        "id": "znRAAZBN6ATk",
        "outputId": "fd9350d4-17d1-4306-cb0a-32805cc1ab04"
      },
      "execution_count": 32,
      "outputs": [
        {
          "output_type": "stream",
          "name": "stdout",
          "text": [
            " the 75Th percentile : 8.75\n"
          ]
        }
      ]
    },
    {
      "cell_type": "markdown",
      "source": [
        "11. Scenario: A quality control department wants to test the weight consistency of a product. The weights of a sample of products are as follows:\n",
        "    [10.2, 9.8, 10.0, 10.5, 10.3, 10.1]\n",
        "    Perform a hypothesis test to determine if the mean weight differs significantly from 10 grams.\n",
        "\n"
      ],
      "metadata": {
        "id": "LUoAkQiI6pwj"
      }
    },
    {
      "cell_type": "code",
      "source": [
        "from scipy.stats import stats\n",
        "\n",
        "weights = [10.2, 9.8, 10.0, 10.5, 10.3, 10.1]\n",
        "t_value,p_value = stats.ttest_1samp(weights,10)\n",
        "\n",
        "if p_value<0.05:\n",
        "  print('reject null hypothesis')\n",
        "else:\n",
        "  print('accept the null hypothesis')\n",
        "\n",
        "print(t_value,p_value)"
      ],
      "metadata": {
        "colab": {
          "base_uri": "https://localhost:8080/"
        },
        "id": "GU_qHFKR04mJ",
        "outputId": "4471b25c-5c19-40e7-bd15-75b4b0d29adf"
      },
      "execution_count": 37,
      "outputs": [
        {
          "output_type": "stream",
          "name": "stdout",
          "text": [
            "accept the null hypothesis\n",
            "1.5126584522688367 0.19077595151110102\n"
          ]
        },
        {
          "output_type": "stream",
          "name": "stderr",
          "text": [
            "<ipython-input-37-5e0f87b3e269>:4: DeprecationWarning: Please use `ttest_1samp` from the `scipy.stats` namespace, the `scipy.stats.stats` namespace is deprecated.\n",
            "  t_value,p_value = stats.ttest_1samp(weights,10)\n"
          ]
        }
      ]
    },
    {
      "cell_type": "markdown",
      "source": [
        "12. Scenario: A company wants to analyze the click-through rates of two different website designs. The number of clicks for each design is as follows:\n",
        "    Design A: [100, 120, 110, 90, 95]\n",
        "    Design B: [80, 85, 90, 95, 100]\n",
        "    Perform a chi-square test to determine if there is a significant difference in the click-through rates between the two designs.\n"
      ],
      "metadata": {
        "id": "D01qLbAQY0As"
      }
    },
    {
      "cell_type": "code",
      "source": [
        "import scipy.stats as stats\n",
        "import numpy as np\n",
        "\n",
        "clicks_design_a = [100, 120, 110, 90, 95]\n",
        "clicks_design_b = [80, 85, 90, 95, 100]\n",
        "\n",
        "contingency_table = np.array([clicks_design_a, clicks_design_b])\n",
        "\n",
        "chi2, p_value, dof, expected = stats.chi2_contingency(contingency_table)\n",
        "\n",
        "alpha = 0.05\n",
        "\n",
        "print(\"Chi-Square statistic:\", chi2)\n",
        "print(\"P-Value:\", p_value)\n",
        "\n",
        "if p_value < alpha:\n",
        "    print(\"There is a significant difference in the click-through rates between the two designs.\")\n",
        "else:\n",
        "    print(\"There is no significant difference in the click-through rates between the two designs.\")\n",
        "\n",
        "print(contingency_table)\n"
      ],
      "metadata": {
        "colab": {
          "base_uri": "https://localhost:8080/"
        },
        "id": "9AUMtasL7r5q",
        "outputId": "f55b6d84-b1de-4784-f42a-29215ec95da5"
      },
      "execution_count": 18,
      "outputs": [
        {
          "output_type": "stream",
          "name": "stdout",
          "text": [
            "Chi-Square statistic: 6.110658166925435\n",
            "P-Value: 0.19103526314060293\n",
            "There is no significant difference in the click-through rates between the two designs.\n",
            "[[100 120 110  90  95]\n",
            " [ 80  85  90  95 100]]\n"
          ]
        }
      ]
    },
    {
      "cell_type": "markdown",
      "source": [
        "13. Scenario: A survey is conducted to measure customer satisfaction with a product on a scale of 1 to 10. The data collected is as follows:\n",
        "    [7, 9, 6, 8, 10, 7, 8, 9, 7, 8]\n",
        "    Calculate the 95% confidence interval for the population mean satisfaction score.\n"
      ],
      "metadata": {
        "id": "ZoQj5i-9ZAMa"
      }
    },
    {
      "cell_type": "code",
      "source": [
        "import scipy.stats as stats\n",
        "import numpy as np\n",
        "\n",
        "satisfaction_scores = [7, 9, 6, 8, 10, 7, 8, 9, 7, 8]\n",
        "\n",
        "confidence_level = 0.95\n",
        "sample_mean = np.mean(satisfaction_scores)\n",
        "sample_std = np.std(satisfaction_scores, ddof=1)\n",
        "sample_size = len(satisfaction_scores)\n",
        "\n",
        "margin_of_error = stats.t.ppf((1 + confidence_level) / 2, df=sample_size - 1) * (sample_std / np.sqrt(sample_size))\n",
        "\n",
        "\n",
        "lower_bound = sample_mean - margin_of_error\n",
        "upper_bound = sample_mean + margin_of_error\n",
        "\n",
        "print(\"95% Confidence Interval for the Population Mean Satisfaction Score:\")\n",
        "print(\"Lower Bound:\", lower_bound)\n",
        "print(\"Upper Bound:\", upper_bound)\n"
      ],
      "metadata": {
        "colab": {
          "base_uri": "https://localhost:8080/"
        },
        "id": "RFDZf6pYZETP",
        "outputId": "959c6cf1-9062-44e7-e9b3-f0e915e251fc"
      },
      "execution_count": 21,
      "outputs": [
        {
          "output_type": "stream",
          "name": "stdout",
          "text": [
            "95% Confidence Interval for the Population Mean Satisfaction Score:\n",
            "Lower Bound: 7.043561120599888\n",
            "Upper Bound: 8.756438879400113\n"
          ]
        }
      ]
    },
    {
      "cell_type": "markdown",
      "source": [
        "14. Scenario: A company wants to analyze the effect of temperature on product performance. The data collected is as follows:\n",
        "    Temperature (in degrees Celsius): [20, 22, 23, 19, 21]\n",
        "    Performance (on a scale of 1 to 10): [8, 7, 9, 6, 8]\n",
        "    Perform a simple linear regression to predict performance based on temperature.\n"
      ],
      "metadata": {
        "id": "c_WGhmIhZOGU"
      }
    },
    {
      "cell_type": "code",
      "source": [
        "from sklearn.linear_model import LinearRegression\n",
        "import numpy as np\n",
        "lm = LinearRegression()\n",
        "X_train = np.array([20, 22, 23, 19, 21]).reshape(-1,1)\n",
        "y_train = np.array([8, 7, 9, 6, 8])\n",
        "lm.fit(X_train,y_train)\n",
        "\n",
        "X_test = np.array(int(input('Please enter the temp to predict performance: '))).reshape(-1,1)\n",
        "print(lm.predict(X_test))\n",
        "print(lm.coef_)\n",
        "print(lm.intercept_)\n",
        "\n"
      ],
      "metadata": {
        "colab": {
          "base_uri": "https://localhost:8080/"
        },
        "id": "PSOQTLvRZRKR",
        "outputId": "77716b58-0a83-42d0-9a9d-5fb73a37e593"
      },
      "execution_count": 8,
      "outputs": [
        {
          "output_type": "stream",
          "name": "stdout",
          "text": [
            "Please enter the temp to predict performance: 22\n",
            "[8.1]\n",
            "[0.5]\n",
            "-2.8999999999999986\n"
          ]
        }
      ]
    },
    {
      "cell_type": "markdown",
      "source": [
        "15. Scenario: A study is conducted to compare the preferences of two groups of participants. The preferences are measured on a Likert scale from 1 to 5. The data collected is as follows:\n",
        "    Group A: [4, 3, 5, 2, 4]\n",
        "    Group B: [3, 2, 4, 3, 3]\n",
        "    Perform a Mann-Whitney U test to determine if there is a significant difference in the median preferences between the two groups.\n"
      ],
      "metadata": {
        "id": "SCYjBG8Na8ya"
      }
    },
    {
      "cell_type": "code",
      "source": [
        "import scipy.stats as stats\n",
        "Group_A = [4, 3, 5, 2, 4]\n",
        "Group_B = [3, 2, 4, 3, 3]\n",
        "\n",
        "result,p_value = stats.mannwhitneyu(Group_A,Group_B)\n",
        "if p_value < 0.05:\n",
        "  print('Reject Null Hypothesis there is significant difference')\n",
        "else:\n",
        "  print('Accept Null Hypothesis there is no siggnifican difference')\n",
        "print(result,p_value)\n"
      ],
      "metadata": {
        "colab": {
          "base_uri": "https://localhost:8080/"
        },
        "id": "NbJLDxqPaO32",
        "outputId": "79a15aed-42ba-4f1e-cb98-c762c0ac811a"
      },
      "execution_count": 22,
      "outputs": [
        {
          "output_type": "stream",
          "name": "stdout",
          "text": [
            "Accept Null Hypothesis there is no siggnifican difference\n",
            "17.0 0.380836480306712\n"
          ]
        }
      ]
    },
    {
      "cell_type": "markdown",
      "source": [
        "16. Scenario: A company wants to analyze the distribution of customer ages. The data collected is as follows:\n",
        "    [25, 30, 35, 40, 45, 50, 55, 60, 65, 70]\n",
        "    Calculate the interquartile range (IQR) of the ages.\n"
      ],
      "metadata": {
        "id": "bsfX4uuYbEIV"
      }
    },
    {
      "cell_type": "code",
      "source": [
        "import numpy as np\n",
        "data =  [25, 30, 35, 40, 45, 50, 55, 60, 65, 70]\n",
        "R1,R2 = np.percentile(data,(25,75))\n",
        "IQR = R2-R1\n",
        "print(f'the interquartile range (IQR) of the ages is {IQR}')\n"
      ],
      "metadata": {
        "colab": {
          "base_uri": "https://localhost:8080/"
        },
        "id": "uH_dkr3PbGTL",
        "outputId": "201166bc-f571-40e5-917b-14eee3481752"
      },
      "execution_count": 9,
      "outputs": [
        {
          "output_type": "stream",
          "name": "stdout",
          "text": [
            "the interquartile range (IQR) of the ages is 22.5\n"
          ]
        }
      ]
    },
    {
      "cell_type": "markdown",
      "source": [
        "17. Scenario: A study is conducted to compare the performance of three different machine learning algorithms. The accuracy scores for each algorithm are as follows:\n",
        "    Algorithm A: [0.85, 0.80, 0.82, 0.87, 0.83]\n",
        "    Algorithm B: [0.78, 0.82, 0.84, 0.80, 0.79]\n",
        "    Algorithm C: [0.90, 0.88, 0.89, 0.86, 0.87]\n",
        "    Perform a Kruskal-Wallis test to determine if there is a significant difference in the median accuracy scores between the algorithms.\n"
      ],
      "metadata": {
        "id": "Rg0JmrQWcLQ4"
      }
    },
    {
      "cell_type": "code",
      "source": [
        "import scipy.stats as stats\n",
        "A = [0.85, 0.80, 0.82, 0.87, 0.83]\n",
        "B = [0.78, 0.82, 0.84, 0.80, 0.79]\n",
        "C = [0.90, 0.88, 0.89, 0.86, 0.87]\n",
        "\n",
        "result,p_value = stats.kruskal(A,B,C)\n",
        "if p_value < 0.05:\n",
        "  print('Reject Null Hypothesis there is significant difference')\n",
        "else:\n",
        "  print('Accept Null Hypothesis there is no siggnifican difference')\n",
        "print(result,p_value)\n"
      ],
      "metadata": {
        "colab": {
          "base_uri": "https://localhost:8080/"
        },
        "id": "oUvvU8rFcJN_",
        "outputId": "8a3bd0cc-8ec7-4df4-b7e9-2cb1094f47a6"
      },
      "execution_count": 23,
      "outputs": [
        {
          "output_type": "stream",
          "name": "stdout",
          "text": [
            "Reject Null Hypothesis there is significant difference\n",
            "9.696947935368053 0.007840333026249539\n"
          ]
        }
      ]
    },
    {
      "cell_type": "markdown",
      "source": [
        "18. Scenario: A company wants to analyze the effect of price on sales. The data collected is as follows:\n",
        "    Price (in dollars): [10, 15, 12, 8, 14]\n",
        "    Sales: [100, 80, 90, 110, 95]\n",
        "    Perform a simple linear regression to predict\n",
        "\n",
        " sales based on price.\n",
        "\n"
      ],
      "metadata": {
        "id": "XkP4Xv5ncRpp"
      }
    },
    {
      "cell_type": "code",
      "source": [
        "from sklearn.linear_model import LinearRegression\n",
        "import numpy as np\n",
        "lm = LinearRegression()\n",
        "X_train = np.array([10, 15, 12, 8, 14]).reshape(-1,1)\n",
        "y_train = np.array([100, 80, 90, 110, 95])\n",
        "lm.fit(X_train,y_train)\n",
        "\n",
        "X_test = np.array(int(input('Please enter the price to predict sale: '))).reshape(-1,1)\n",
        "print(lm.predict(X_test))\n",
        "print(lm.coef_)\n",
        "print(lm.intercept_)\n",
        "\n"
      ],
      "metadata": {
        "colab": {
          "base_uri": "https://localhost:8080/"
        },
        "id": "urxPzkVxcTup",
        "outputId": "995a1b21-f862-41f8-8f72-ca228daf8b02"
      },
      "execution_count": 11,
      "outputs": [
        {
          "output_type": "stream",
          "name": "stdout",
          "text": [
            "Please enter the price to predict sale: 12\n",
            "[94.29878049]\n",
            "[-3.50609756]\n",
            "136.3719512195122\n"
          ]
        }
      ]
    },
    {
      "cell_type": "markdown",
      "source": [
        "19. Scenario: A survey is conducted to measure the satisfaction levels of customers with a new product. The data collected is as follows:\n",
        "    [7, 8, 9, 6, 8, 7, 9, 7, 8, 7]\n",
        "    Calculate the standard error of the mean satisfaction score.\n"
      ],
      "metadata": {
        "id": "5g13OJwAcrWX"
      }
    },
    {
      "cell_type": "code",
      "source": [
        "import statistics\n",
        "import numpy as np\n",
        "data = [7, 8, 9, 6, 8, 7, 9, 7, 8, 7]\n",
        "standard_error = statistics.stdev(data)/np.sqrt(len(data))\n",
        "print(standard_error)"
      ],
      "metadata": {
        "colab": {
          "base_uri": "https://localhost:8080/"
        },
        "id": "6Q9wy5HzclV4",
        "outputId": "1a3894b1-559d-450d-823e-c2170a6f6770"
      },
      "execution_count": 13,
      "outputs": [
        {
          "output_type": "stream",
          "name": "stdout",
          "text": [
            "0.30550504633038933\n"
          ]
        }
      ]
    },
    {
      "cell_type": "markdown",
      "source": [
        "20. Scenario: A company wants to analyze the relationship between advertising expenditure and sales. The data collected is as follows:\n",
        "    Advertising Expenditure (in thousands): [10, 15, 12, 8, 14]\n",
        "    Sales (in thousands): [25, 30, 28, 20, 26]\n",
        "    Perform a multiple regression analysis to predict sales based on advertising expenditure.\n",
        "\n"
      ],
      "metadata": {
        "id": "TDDoxnyFfrPa"
      }
    },
    {
      "cell_type": "code",
      "source": [
        "from sklearn.linear_model import LinearRegression\n",
        "import numpy as np\n",
        "lm = LinearRegression()\n",
        "X_train = np.array([10, 15, 12, 8, 14]).reshape(-1,1)\n",
        "y_train = np.array([25, 30, 28, 20, 26])\n",
        "result = lm.fit(X_train,y_train)\n",
        "\n",
        "X_test = np.array(int(input('Please enter the expenditure to predict sale: '))).reshape(-1,1)\n",
        "print(lm.predict(X_test))\n",
        "print(lm.coef_)\n",
        "print(lm.intercept_)\n",
        "\n",
        "\n"
      ],
      "metadata": {
        "colab": {
          "base_uri": "https://localhost:8080/"
        },
        "id": "0Xq5wN9PfbBD",
        "outputId": "f8d3f5f6-653f-4e7d-f90e-811f1b036a1f"
      },
      "execution_count": 17,
      "outputs": [
        {
          "output_type": "stream",
          "name": "stdout",
          "text": [
            "Please enter the expenditure to predict sale: 9\n",
            "[22.57317073]\n",
            "[1.15243902]\n",
            "12.20121951219512\n"
          ]
        }
      ]
    },
    {
      "cell_type": "code",
      "source": [],
      "metadata": {
        "id": "EVnRzA0Gf8ph"
      },
      "execution_count": null,
      "outputs": []
    }
  ]
}